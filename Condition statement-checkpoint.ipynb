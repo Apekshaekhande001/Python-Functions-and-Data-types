{
 "cells": [
  {
   "cell_type": "markdown",
   "id": "fdb31e16",
   "metadata": {},
   "source": [
    "# if else "
   ]
  },
  {
   "cell_type": "code",
   "execution_count": 1,
   "id": "1aeb9a8f",
   "metadata": {},
   "outputs": [
    {
     "name": "stdout",
     "output_type": "stream",
     "text": [
      "number ?29\n",
      "the absolute value of 29 is 29\n",
      "110\n"
     ]
    }
   ],
   "source": [
    "n= int(input('number ?'))     #absolute no- positive number\n",
    "if n>=0:\n",
    "    print('the absolute value of',n,'is',n)    \n",
    "else:\n",
    "    print('the absolute value of',n,'is',-n)\n",
    "sumofnum=50+60\n",
    "print(sumofnum) "
   ]
  },
  {
   "cell_type": "code",
   "execution_count": 2,
   "id": "5a0309d0",
   "metadata": {},
   "outputs": [
    {
     "name": "stdout",
     "output_type": "stream",
     "text": [
      "enter a number23\n",
      "odd number\n",
      "\n"
     ]
    }
   ],
   "source": [
    "p= int(input('enter a number')) # even number or odd number\n",
    "if p%2==0:\n",
    "    print('even number',p)\n",
    "else: \n",
    "    print('odd number')\n",
    "    print()\n",
    "    "
   ]
  },
  {
   "cell_type": "code",
   "execution_count": 3,
   "id": "5514060a",
   "metadata": {},
   "outputs": [
    {
     "name": "stdout",
     "output_type": "stream",
     "text": [
      "enter a age of person=23\n",
      "person is elegible for voting 23\n"
     ]
    }
   ],
   "source": [
    "b=int(input('enter a age of person=')) # person is eligible for voting or not\n",
    "if b>=18:\n",
    "    print('person is elegible for voting',b)\n",
    "else:\n",
    "    print('person is not  elegible for voting')\n",
    "    print()"
   ]
  },
  {
   "cell_type": "code",
   "execution_count": 4,
   "id": "d6d38082",
   "metadata": {},
   "outputs": [
    {
     "name": "stdout",
     "output_type": "stream",
     "text": [
      "Enter a number23\n",
      "is number is not divisible 23\n",
      "\n"
     ]
    }
   ],
   "source": [
    "num=int(input('Enter a number')) #number is divisible by 7 or not\n",
    "if num%7==0:\n",
    "    print('is number is divisible',num)\n",
    "else:\n",
    "    print('is number is not divisible',num)\n",
    "    print()"
   ]
  },
  {
   "cell_type": "code",
   "execution_count": 5,
   "id": "448044dc",
   "metadata": {},
   "outputs": [
    {
     "name": "stdout",
     "output_type": "stream",
     "text": [
      "enter a number23\n",
      "Bye 23\n"
     ]
    }
   ],
   "source": [
    "num = int(input('enter a number')) #display 'Hello' if number is multiple of 5\n",
    "if num%5==0:                      #otherwise print bye\n",
    "    print('Hello',num)\n",
    "else: \n",
    "    print('Bye',num)"
   ]
  },
  {
   "cell_type": "code",
   "execution_count": 6,
   "id": "dc8e1969",
   "metadata": {},
   "outputs": [
    {
     "name": "stdout",
     "output_type": "stream",
     "text": [
      "Enter no. of units350\n",
      "amount to pay: 2000\n"
     ]
    }
   ],
   "source": [
    "num=int(input('Enter no. of units'))\n",
    "amt=0                      # calculating electricity bill 350 of units\n",
    "if num<=100:\n",
    "    amt=0\n",
    "if num>100 and num<=200:\n",
    "    amt=(num-100)*5\n",
    "if num>=200:\n",
    "    amt= 500+(num-200)*10\n",
    "    print('amount to pay:',amt)"
   ]
  },
  {
   "cell_type": "code",
   "execution_count": 7,
   "id": "e2175c3e",
   "metadata": {},
   "outputs": [
    {
     "name": "stdout",
     "output_type": "stream",
     "text": [
      "enter a number50\n",
      "last digit of number is = 0\n"
     ]
    }
   ],
   "source": [
    "num=int(input('enter a number'))#display last digit of the number\n",
    "num%10==0\n",
    "print('last digit of number is =',num%10)"
   ]
  },
  {
   "cell_type": "code",
   "execution_count": 8,
   "id": "53757b75",
   "metadata": {},
   "outputs": [
    {
     "name": "stdout",
     "output_type": "stream",
     "text": [
      "enter a number15\n",
      " last digit number is not divisible by 3\n"
     ]
    }
   ],
   "source": [
    "num=int(input('enter a number')) #check wether last disgit of number is divisible by 3 or not\n",
    "if num%10%3==0:\n",
    "    print(' last digit number is divisible by 3')\n",
    "else: \n",
    "    print (' last digit number is not divisible by 3')"
   ]
  },
  {
   "cell_type": "code",
   "execution_count": 114,
   "id": "109be93b",
   "metadata": {},
   "outputs": [
    {
     "name": "stdout",
     "output_type": "stream",
     "text": [
      "Enter a name ?priya\n",
      "priya\n",
      "the name enterd is priya\n"
     ]
    }
   ],
   "source": [
    "name=input('Enter a name ?')        # input for names\n",
    "print(name)\n",
    "if name=='Kiran':\n",
    "    print('the name enterd is',name)\n",
    "elif name=='joy':\n",
    "    print('the name enterd is',name)\n",
    "elif name=='priya':\n",
    "    print('the name enterd is',name)\n",
    "else:\n",
    "    print('the name is not valid')\n"
   ]
  },
  {
   "cell_type": "code",
   "execution_count": 10,
   "id": "3a552eeb",
   "metadata": {},
   "outputs": [
    {
     "name": "stdout",
     "output_type": "stream",
     "text": [
      "valid animal\n",
      "name Enterd is animal\n"
     ]
    }
   ],
   "source": [
    "name=\"animals\"               # nested if- means i have a condition which have to satisfied but \n",
    "                             # the parent condition also get satisfy\n",
    "animalname='2dog'\n",
    "if name==\"animals\":\n",
    "    if animalname==\"2dog\":\n",
    "        print(\"valid animal\")\n",
    "        print(\"name Enterd is animal\")\n",
    "    else:\n",
    "        print('i have given up')\n",
    "        print('abc')\n",
    "else:\n",
    "    print('the name enterd is not valid')"
   ]
  },
  {
   "cell_type": "code",
   "execution_count": 11,
   "id": "1e2c76a2",
   "metadata": {},
   "outputs": [
    {
     "name": "stdout",
     "output_type": "stream",
     "text": [
      " beautiful\n",
      "name enterd is sangita\n"
     ]
    }
   ],
   "source": [
    "papa= 'talented'\n",
    "mummy='lovely'\n",
    "if papa=='talented':\n",
    "    if mummy=='lovely':\n",
    "        print(' beautiful')\n",
    "        print('name enterd is sangita')\n",
    "    else:\n",
    "        print('i have given up')\n",
    "        print('abc')\n",
    "else:\n",
    "    print('the name enterd is not valid')"
   ]
  },
  {
   "cell_type": "code",
   "execution_count": 35,
   "id": "dab398b6",
   "metadata": {},
   "outputs": [
    {
     "name": "stdout",
     "output_type": "stream",
     "text": [
      "percentage of a student98\n",
      "A 98\n"
     ]
    }
   ],
   "source": [
    "# write a program to accept % from the user and display gread according to the following criteria\n",
    "#marks                Grade\n",
    "#>90                   A\n",
    "#>80 and <=90          B\n",
    "#>=60 and <=80         C\n",
    "# below 60             D\n",
    "Percent=int(input(\"percentage of a student\"))\n",
    "if Percent<60:\n",
    "    print(\"D\",Percent)\n",
    "if Percent>=60 and Percent<=80:\n",
    "    print(\"C\",Percent)\n",
    "if Percent>80 and Percent<=90:\n",
    "    print(\"B\",Percent)\n",
    "if  Percent>90:\n",
    "    print(\"A\",Percent)\n",
    "    "
   ]
  },
  {
   "cell_type": "code",
   "execution_count": 5,
   "id": "fbb28449",
   "metadata": {},
   "outputs": [
    {
     "name": "stdout",
     "output_type": "stream",
     "text": [
      "Enter a days in year366\n",
      "this year is leap year\n"
     ]
    }
   ],
   "source": [
    "# cheak wether years is leap year or not\n",
    "# First method we know that leap year has 366 days in year and common yr has 365\n",
    "\n",
    "Days=int(input(\"Enter a days in year\"))\n",
    "if Days<=365:\n",
    "    print(\"this year is Common year\")\n",
    "if Days>365:\n",
    "    print(\"this year is leap year\")\n",
    "    \n"
   ]
  },
  {
   "cell_type": "code",
   "execution_count": 8,
   "id": "edd109be",
   "metadata": {},
   "outputs": [
    {
     "name": "stdout",
     "output_type": "stream",
     "text": [
      "Enter the year1900\n",
      "Entered year is not a leap year\n"
     ]
    }
   ],
   "source": [
    "# another method\n",
    "# here we know that A year may be a leap year if it is evenly divisible by 4\n",
    "year=int(input(\"Enter the year\"))\n",
    "if year%100==0:\n",
    "    if year%400==0:\n",
    "        print(\"enterd year is leap year\")\n",
    "    else:\n",
    "        print(\"Entered year is not a leap year\")\n",
    "else:\n",
    "    if year%4==0:\n",
    "        print(\"Enterd year is leap year\")\n",
    "    else:\n",
    "        print(\"Enterd year is not a leap year\")\n"
   ]
  },
  {
   "cell_type": "code",
   "execution_count": 9,
   "id": "2c666127",
   "metadata": {},
   "outputs": [
    {
     "name": "stdout",
     "output_type": "stream",
     "text": [
      "enter a number from 1 to 12 :4\n",
      "April\n"
     ]
    }
   ],
   "source": [
    "# program to accept a number from 1 to 12 and display the name of the Month\n",
    "month=int(input(\"enter a number from 1 to 12 :\"))\n",
    "if month==1:\n",
    "    print(\"Janury\")\n",
    "elif month==2:\n",
    "    print(\"february\")\n",
    "elif month==3:\n",
    "    print(\"march\")\n",
    "elif month==4:\n",
    "    print(\"April\")\n",
    "elif month==5:\n",
    "    print(\"may\")\n",
    "elif month==6:\n",
    "    print(\"june\")\n",
    "elif month==7:\n",
    "    print(\"july\")\n",
    "elif month==8:\n",
    "    print(\"august\")\n",
    "elif month==9:\n",
    "    print(\"september\")\n",
    "elif month==10:\n",
    "    print(\"october\")\n",
    "elif month==11:\n",
    "    print(\"november\")\n",
    "elif month==12:\n",
    "    print(\"december\")\n",
    "else:\n",
    "    print(\" please enter a number between 1 to 12\")\n"
   ]
  },
  {
   "cell_type": "code",
   "execution_count": 111,
   "id": "5d622b4f",
   "metadata": {},
   "outputs": [
    {
     "name": "stdout",
     "output_type": "stream",
     "text": [
      "yes\n"
     ]
    }
   ],
   "source": [
    "A=5\n",
    "B=4\n",
    "if A>B:\n",
    "    print(\"yes\")\n",
    "else:\n",
    "    print(\"no\")"
   ]
  },
  {
   "cell_type": "code",
   "execution_count": 13,
   "id": "36f62546",
   "metadata": {},
   "outputs": [
    {
     "name": "stdout",
     "output_type": "stream",
     "text": [
      "enter a age of person 1:2\n",
      "enter a age of person 2:3\n",
      "enter a age of person 3:7\n",
      "enter a age of person 4:1\n",
      "person 4 is youngest\n"
     ]
    }
   ],
   "source": [
    "# Accept the age of 4 people and display the youngest person between them\n",
    "per1=int(input(\"enter a age of person 1:\"))\n",
    "per2=int(input(\"enter a age of person 2:\"))\n",
    "per3=int(input(\"enter a age of person 3:\"))\n",
    "per4=int(input(\"enter a age of person 4:\"))\n",
    "if per1<per2 and per1<per3 and per1<per4:\n",
    "    print(\"person 1 is youngest\")\n",
    "if per2<per1 and per2<per3 and per2<per4:\n",
    "    print(\"person 2 is youngest\")\n",
    "if per3<per1 and per3<per2 and per3<per4:\n",
    "    print(\"person 3 is youngest\") \n",
    "if per4<per1 and per4<per2 and per4<per3:\n",
    "    print(\"person 4 is youngest\")\n"
   ]
  },
  {
   "cell_type": "code",
   "execution_count": null,
   "id": "117ffacc",
   "metadata": {},
   "outputs": [],
   "source": []
  },
  {
   "cell_type": "code",
   "execution_count": null,
   "id": "d109198f",
   "metadata": {},
   "outputs": [],
   "source": []
  },
  {
   "cell_type": "code",
   "execution_count": null,
   "id": "b70a4d8d",
   "metadata": {},
   "outputs": [],
   "source": [
    "## Loops\n",
    "## while loop\n",
    "while loop is used for repeating same program many times in short code\n"
   ]
  },
  {
   "cell_type": "code",
   "execution_count": 13,
   "id": "bd2d7c02",
   "metadata": {},
   "outputs": [
    {
     "name": "stdout",
     "output_type": "stream",
     "text": [
      "0 First print\n",
      "1 Second print\n",
      "1 First print\n",
      "2 Second print\n",
      "2 First print\n",
      "3 Second print\n",
      "3 First print\n",
      "4 Second print\n",
      "4 First print\n",
      "5 Second print\n"
     ]
    }
   ],
   "source": [
    "a=0\n",
    "while   a<5:\n",
    "        print(a,'First print')\n",
    "        a=a+1\n",
    "        print(a,'Second print')"
   ]
  },
  {
   "cell_type": "code",
   "execution_count": null,
   "id": "a9f06a4b",
   "metadata": {},
   "outputs": [
    {
     "name": "stdout",
     "output_type": "stream",
     "text": [
      "Enter number to add to sum.\n",
      "Enter 0 to Quit\n",
      "current sum: 0\n"
     ]
    }
   ],
   "source": [
    "a=1\n",
    "s=0              # infinite while loop\n",
    "x=0                                     \n",
    "print ('Enter number to add to sum.')\n",
    "print ('Enter 0 to Quit')\n",
    "while a!=0:\n",
    "    print('current sum:',s)\n",
    "    a=float(input('enter a number:'))\n",
    "    s=s+a\n",
    "print('total sum',s)"
   ]
  },
  {
   "cell_type": "code",
   "execution_count": 145,
   "id": "f2c6b599",
   "metadata": {},
   "outputs": [
    {
     "name": "stdout",
     "output_type": "stream",
     "text": [
      "Enter a number2\n",
      "2 x 10 = 20\n",
      "2 x 11 = 22\n",
      "2 x 12 = 24\n",
      "2 x 13 = 26\n",
      "2 x 14 = 28\n",
      "2 x 15 = 30\n",
      "2 x 16 = 32\n",
      "2 x 17 = 34\n",
      "2 x 18 = 36\n",
      "2 x 19 = 38\n",
      "2 x 20 = 40\n"
     ]
    }
   ],
   "source": [
    "# Display multiplication table program from 10 to 20\n",
    "number=int(input(\"Enter a number\"))\n",
    "count=10\n",
    "while count<=20:\n",
    "    product=number*count\n",
    "    print(number,\"x\",count,\"=\",product)\n",
    "    count=count+1"
   ]
  },
  {
   "cell_type": "code",
   "execution_count": 137,
   "id": "ea76a615",
   "metadata": {},
   "outputs": [
    {
     "name": "stdout",
     "output_type": "stream",
     "text": [
      "enter a number:2\n",
      "2 x 10 = 20\n",
      "2 x 9 = 18\n",
      "2 x 8 = 16\n",
      "2 x 7 = 14\n",
      "2 x 6 = 12\n",
      "2 x 5 = 10\n",
      "2 x 4 = 8\n",
      "2 x 3 = 6\n",
      "2 x 2 = 4\n",
      "2 x 1 = 2\n"
     ]
    }
   ],
   "source": [
    "# multiplication table program so that we get a multiplication table from 10 to 1 instead of 1 to 10.\n",
    "number=int(input(\"enter a number:\"))\n",
    "count=10\n",
    "while count>=1:\n",
    "    product=number*count\n",
    "    print(number,\"x\",count,\"=\",product)\n",
    "    count=count-1"
   ]
  },
  {
   "cell_type": "code",
   "execution_count": null,
   "id": "9921e258",
   "metadata": {},
   "outputs": [],
   "source": [
    "# multiplication table program so that we get a multiplication table from 10 to 1 instead of 1 to 10.\n",
    "number=int(input(\"enter a number:\"))\n",
    "count=1\n",
    "while count<=10:\n",
    "    product=number*count\n",
    "    print(number,\"x\",count,\"=\",product)\n",
    "    count=count+1"
   ]
  },
  {
   "cell_type": "markdown",
   "id": "9ede252b",
   "metadata": {},
   "source": [
    "### "
   ]
  },
  {
   "cell_type": "code",
   "execution_count": null,
   "id": "4cc9927e",
   "metadata": {},
   "outputs": [],
   "source": []
  }
 ],
 "metadata": {
  "kernelspec": {
   "display_name": "Python 3 (ipykernel)",
   "language": "python",
   "name": "python3"
  },
  "language_info": {
   "codemirror_mode": {
    "name": "ipython",
    "version": 3
   },
   "file_extension": ".py",
   "mimetype": "text/x-python",
   "name": "python",
   "nbconvert_exporter": "python",
   "pygments_lexer": "ipython3",
   "version": "3.9.12"
  }
 },
 "nbformat": 4,
 "nbformat_minor": 5
}
