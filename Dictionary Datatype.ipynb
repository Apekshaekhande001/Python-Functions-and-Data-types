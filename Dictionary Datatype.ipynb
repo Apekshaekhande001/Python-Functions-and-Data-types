{
 "cells": [
  {
   "cell_type": "code",
   "execution_count": 1,
   "id": "ae131f4c",
   "metadata": {},
   "outputs": [],
   "source": [
    "# empty dictionray\n",
    "d1 = {}"
   ]
  },
  {
   "cell_type": "code",
   "execution_count": 2,
   "id": "2c28392e",
   "metadata": {},
   "outputs": [
    {
     "data": {
      "text/plain": [
       "dict"
      ]
     },
     "execution_count": 2,
     "metadata": {},
     "output_type": "execute_result"
    }
   ],
   "source": [
    "type(d1)"
   ]
  },
  {
   "cell_type": "code",
   "execution_count": 3,
   "id": "6dab7ac0",
   "metadata": {},
   "outputs": [],
   "source": [
    "# Create dictionary\n",
    "d1 = {'Country':'India',\n",
    "      'Capital':'Delhi',\n",
    "       'States': 28,\n",
    "           'UT':8,\n",
    "   'Population':1413273739,\n",
    "       'Fruits':['Apple','Mango','Orange','Grapes']\n",
    "     }"
   ]
  },
  {
   "cell_type": "code",
   "execution_count": 4,
   "id": "8ed91933",
   "metadata": {},
   "outputs": [
    {
     "data": {
      "text/plain": [
       "{'Country': 'India',\n",
       " 'Capital': 'Delhi',\n",
       " 'States': 28,\n",
       " 'UT': 8,\n",
       " 'Population': 1413273739,\n",
       " 'Fruits': ['Apple', 'Mango', 'Orange', 'Grapes']}"
      ]
     },
     "execution_count": 4,
     "metadata": {},
     "output_type": "execute_result"
    }
   ],
   "source": [
    "d1"
   ]
  },
  {
   "cell_type": "markdown",
   "id": "60448433",
   "metadata": {},
   "source": [
    "##### - Accessing values from specified keys"
   ]
  },
  {
   "cell_type": "code",
   "execution_count": 5,
   "id": "57bc9885",
   "metadata": {},
   "outputs": [
    {
     "data": {
      "text/plain": [
       "'India'"
      ]
     },
     "execution_count": 5,
     "metadata": {},
     "output_type": "execute_result"
    }
   ],
   "source": [
    "d1['Country']"
   ]
  },
  {
   "cell_type": "code",
   "execution_count": 6,
   "id": "adc0f400",
   "metadata": {},
   "outputs": [
    {
     "data": {
      "text/plain": [
       "28"
      ]
     },
     "execution_count": 6,
     "metadata": {},
     "output_type": "execute_result"
    }
   ],
   "source": [
    "d1['States']"
   ]
  },
  {
   "cell_type": "code",
   "execution_count": 7,
   "id": "103a556c",
   "metadata": {},
   "outputs": [
    {
     "data": {
      "text/plain": [
       "['Apple', 'Mango', 'Orange', 'Grapes']"
      ]
     },
     "execution_count": 7,
     "metadata": {},
     "output_type": "execute_result"
    }
   ],
   "source": [
    "d1['Fruits']"
   ]
  },
  {
   "cell_type": "markdown",
   "id": "70bba894",
   "metadata": {},
   "source": [
    "##### - Creating dictionary from separate keys and values"
   ]
  },
  {
   "cell_type": "code",
   "execution_count": 8,
   "id": "6bce4513",
   "metadata": {},
   "outputs": [],
   "source": [
    "# Example 1\n",
    "keys = ['Apeksha','Shubham','Om','Rupesh','Sakshi']\n",
    "values = [88,83,90,75,79]"
   ]
  },
  {
   "cell_type": "code",
   "execution_count": 9,
   "id": "f7667ea0",
   "metadata": {},
   "outputs": [
    {
     "data": {
      "text/plain": [
       "{'Apeksha': 88, 'Shubham': 83, 'Om': 90, 'Rupesh': 75, 'Sakshi': 79}"
      ]
     },
     "execution_count": 9,
     "metadata": {},
     "output_type": "execute_result"
    }
   ],
   "source": [
    "score = dict(zip(keys,values))\n",
    "score"
   ]
  },
  {
   "cell_type": "code",
   "execution_count": 10,
   "id": "2702492c",
   "metadata": {},
   "outputs": [
    {
     "data": {
      "text/plain": [
       "83"
      ]
     },
     "execution_count": 10,
     "metadata": {},
     "output_type": "execute_result"
    }
   ],
   "source": [
    "score['Shubham']"
   ]
  },
  {
   "cell_type": "code",
   "execution_count": 11,
   "id": "068527e6",
   "metadata": {},
   "outputs": [
    {
     "data": {
      "text/plain": [
       "(75, 90)"
      ]
     },
     "execution_count": 11,
     "metadata": {},
     "output_type": "execute_result"
    }
   ],
   "source": [
    "score['Rupesh'],score['Om']"
   ]
  },
  {
   "cell_type": "code",
   "execution_count": 12,
   "id": "b1ec2ed8",
   "metadata": {},
   "outputs": [],
   "source": [
    "# Example 2\n",
    "states = ['Maharashtra','Andhra Pradesh','Punjab','Gujrat','Karnataka']\n",
    "language = ['Marathi','Telugu','Punjabi','Gujrati','Kannada']"
   ]
  },
  {
   "cell_type": "code",
   "execution_count": 13,
   "id": "a8788e99",
   "metadata": {},
   "outputs": [],
   "source": [
    "India = dict(zip(states,language))"
   ]
  },
  {
   "cell_type": "code",
   "execution_count": 14,
   "id": "97b3362c",
   "metadata": {},
   "outputs": [
    {
     "data": {
      "text/plain": [
       "{'Maharashtra': 'Marathi',\n",
       " 'Andhra Pradesh': 'Telugu',\n",
       " 'Punjab': 'Punjabi',\n",
       " 'Gujrat': 'Gujrati',\n",
       " 'Karnataka': 'Kannada'}"
      ]
     },
     "execution_count": 14,
     "metadata": {},
     "output_type": "execute_result"
    }
   ],
   "source": [
    "India"
   ]
  },
  {
   "cell_type": "code",
   "execution_count": 15,
   "id": "789fb300",
   "metadata": {},
   "outputs": [
    {
     "data": {
      "text/plain": [
       "'Marathi'"
      ]
     },
     "execution_count": 15,
     "metadata": {},
     "output_type": "execute_result"
    }
   ],
   "source": [
    "India['Maharashtra']"
   ]
  },
  {
   "cell_type": "code",
   "execution_count": 16,
   "id": "ad3b886a",
   "metadata": {},
   "outputs": [
    {
     "data": {
      "text/plain": [
       "'Punjabi'"
      ]
     },
     "execution_count": 16,
     "metadata": {},
     "output_type": "execute_result"
    }
   ],
   "source": [
    "India.get('Punjab')"
   ]
  },
  {
   "cell_type": "code",
   "execution_count": 17,
   "id": "fb4a56e2",
   "metadata": {},
   "outputs": [
    {
     "data": {
      "text/plain": [
       "'Punjabi'"
      ]
     },
     "execution_count": 17,
     "metadata": {},
     "output_type": "execute_result"
    }
   ],
   "source": [
    "India.get('Punjab')"
   ]
  },
  {
   "cell_type": "code",
   "execution_count": 18,
   "id": "c166a2a8",
   "metadata": {},
   "outputs": [
    {
     "name": "stdout",
     "output_type": "stream",
     "text": [
      "Not Found in Dictionary\n"
     ]
    }
   ],
   "source": [
    "# if key is not in dictionary\n",
    "if India.get('Tamilnadu\"') == None:\n",
    "    print('Not Found in Dictionary')"
   ]
  },
  {
   "cell_type": "code",
   "execution_count": 19,
   "id": "2576abed",
   "metadata": {},
   "outputs": [
    {
     "data": {
      "text/plain": [
       "('Kannada', 'Not Found in Dictionary')"
      ]
     },
     "execution_count": 19,
     "metadata": {},
     "output_type": "execute_result"
    }
   ],
   "source": [
    "India.get('Karnataka','Not Found in Dictionary'), India.get('Tamilnadu','Not Found in Dictionary')"
   ]
  },
  {
   "cell_type": "code",
   "execution_count": 20,
   "id": "3a5e57e2",
   "metadata": {},
   "outputs": [],
   "source": [
    "# Insert an item in a list\n",
    "India['Rajasthan'] = 'Hindi'"
   ]
  },
  {
   "cell_type": "code",
   "execution_count": 21,
   "id": "c828dd14",
   "metadata": {},
   "outputs": [
    {
     "data": {
      "text/plain": [
       "{'Maharashtra': 'Marathi',\n",
       " 'Andhra Pradesh': 'Telugu',\n",
       " 'Punjab': 'Punjabi',\n",
       " 'Gujrat': 'Gujrati',\n",
       " 'Karnataka': 'Kannada',\n",
       " 'Rajasthan': 'Hindi'}"
      ]
     },
     "execution_count": 21,
     "metadata": {},
     "output_type": "execute_result"
    }
   ],
   "source": [
    "India"
   ]
  },
  {
   "cell_type": "code",
   "execution_count": 22,
   "id": "07e7000d",
   "metadata": {},
   "outputs": [
    {
     "data": {
      "text/plain": [
       "('Rajasthan', 'Hindi')"
      ]
     },
     "execution_count": 22,
     "metadata": {},
     "output_type": "execute_result"
    }
   ],
   "source": [
    "# remove last item\n",
    "India.popitem()"
   ]
  },
  {
   "cell_type": "code",
   "execution_count": 23,
   "id": "2cfab397",
   "metadata": {},
   "outputs": [
    {
     "data": {
      "text/plain": [
       "('Karnataka', 'Kannada')"
      ]
     },
     "execution_count": 23,
     "metadata": {},
     "output_type": "execute_result"
    }
   ],
   "source": [
    "India.popitem()"
   ]
  },
  {
   "cell_type": "code",
   "execution_count": 24,
   "id": "399553e0",
   "metadata": {},
   "outputs": [
    {
     "data": {
      "text/plain": [
       "'Punjabi'"
      ]
     },
     "execution_count": 24,
     "metadata": {},
     "output_type": "execute_result"
    }
   ],
   "source": [
    "# Remove using Key\n",
    "India.pop('Punjab')"
   ]
  },
  {
   "cell_type": "code",
   "execution_count": 25,
   "id": "ed73d9dc",
   "metadata": {},
   "outputs": [
    {
     "data": {
      "text/plain": [
       "{'Maharashtra': 'Marathi', 'Andhra Pradesh': 'Telugu', 'Gujrat': 'Gujrati'}"
      ]
     },
     "execution_count": 25,
     "metadata": {},
     "output_type": "execute_result"
    }
   ],
   "source": [
    "India"
   ]
  },
  {
   "cell_type": "code",
   "execution_count": 26,
   "id": "a3f79eb0",
   "metadata": {},
   "outputs": [],
   "source": [
    "# Remove all items\n",
    "India.clear()"
   ]
  },
  {
   "cell_type": "code",
   "execution_count": 27,
   "id": "34481a0d",
   "metadata": {},
   "outputs": [
    {
     "data": {
      "text/plain": [
       "{}"
      ]
     },
     "execution_count": 27,
     "metadata": {},
     "output_type": "execute_result"
    }
   ],
   "source": [
    "India"
   ]
  },
  {
   "cell_type": "code",
   "execution_count": 28,
   "id": "02e7301e",
   "metadata": {},
   "outputs": [],
   "source": [
    "# Example 3\n",
    "keys = 'Python'\n",
    "values = ('One','Two','Three','Four','Five','Six')"
   ]
  },
  {
   "cell_type": "code",
   "execution_count": 31,
   "id": "dd6117a1",
   "metadata": {},
   "outputs": [
    {
     "data": {
      "text/plain": [
       "{'P': 'One', 'y': 'Two', 't': 'Three', 'h': 'Four', 'o': 'Five', 'n': 'Six'}"
      ]
     },
     "execution_count": 31,
     "metadata": {},
     "output_type": "execute_result"
    }
   ],
   "source": [
    "d1 = dict(zip(keys,values))\n",
    "d1"
   ]
  },
  {
   "cell_type": "code",
   "execution_count": 33,
   "id": "d6366356",
   "metadata": {},
   "outputs": [],
   "source": [
    "# change value of any key\n",
    "d1['t'] = 3"
   ]
  },
  {
   "cell_type": "code",
   "execution_count": 34,
   "id": "aecc67f1",
   "metadata": {},
   "outputs": [],
   "source": [
    "d1['P'] = 1"
   ]
  },
  {
   "cell_type": "code",
   "execution_count": 35,
   "id": "737405bd",
   "metadata": {},
   "outputs": [
    {
     "data": {
      "text/plain": [
       "{'P': 1, 'y': 'Two', 't': 3, 'h': 'Four', 'o': 'Five', 'n': 'Six'}"
      ]
     },
     "execution_count": 35,
     "metadata": {},
     "output_type": "execute_result"
    }
   ],
   "source": [
    "d1"
   ]
  },
  {
   "cell_type": "markdown",
   "id": "7a427b8d",
   "metadata": {},
   "source": [
    "### Common Methods"
   ]
  },
  {
   "cell_type": "markdown",
   "id": "ad419a9b",
   "metadata": {},
   "source": [
    "#### a. len"
   ]
  },
  {
   "cell_type": "code",
   "execution_count": 36,
   "id": "45385452",
   "metadata": {},
   "outputs": [
    {
     "data": {
      "text/plain": [
       "{'P': 1, 'y': 'Two', 't': 3, 'h': 'Four', 'o': 'Five', 'n': 'Six'}"
      ]
     },
     "execution_count": 36,
     "metadata": {},
     "output_type": "execute_result"
    }
   ],
   "source": [
    "# Dictionary\n",
    "d1"
   ]
  },
  {
   "cell_type": "code",
   "execution_count": 37,
   "id": "c45583f3",
   "metadata": {},
   "outputs": [
    {
     "data": {
      "text/plain": [
       "6"
      ]
     },
     "execution_count": 37,
     "metadata": {},
     "output_type": "execute_result"
    }
   ],
   "source": [
    "len(d1)"
   ]
  },
  {
   "cell_type": "code",
   "execution_count": 38,
   "id": "760141dd",
   "metadata": {},
   "outputs": [
    {
     "data": {
      "text/plain": [
       "['Maharashtra', 'Andhra Pradesh', 'Punjab', 'Gujrat', 'Karnataka']"
      ]
     },
     "execution_count": 38,
     "metadata": {},
     "output_type": "execute_result"
    }
   ],
   "source": [
    "# List\n",
    "states"
   ]
  },
  {
   "cell_type": "code",
   "execution_count": 39,
   "id": "73780eb2",
   "metadata": {},
   "outputs": [
    {
     "data": {
      "text/plain": [
       "5"
      ]
     },
     "execution_count": 39,
     "metadata": {},
     "output_type": "execute_result"
    }
   ],
   "source": [
    "len(states)"
   ]
  },
  {
   "cell_type": "code",
   "execution_count": 40,
   "id": "24af14f3",
   "metadata": {},
   "outputs": [
    {
     "data": {
      "text/plain": [
       "('One', 'Two', 'Three', 'Four', 'Five', 'Six')"
      ]
     },
     "execution_count": 40,
     "metadata": {},
     "output_type": "execute_result"
    }
   ],
   "source": [
    "# Tuple\n",
    "values"
   ]
  },
  {
   "cell_type": "code",
   "execution_count": 41,
   "id": "9e0647d3",
   "metadata": {},
   "outputs": [
    {
     "data": {
      "text/plain": [
       "6"
      ]
     },
     "execution_count": 41,
     "metadata": {},
     "output_type": "execute_result"
    }
   ],
   "source": [
    "len(values)"
   ]
  },
  {
   "cell_type": "markdown",
   "id": "82c3340f",
   "metadata": {},
   "source": [
    "#### b. Membership Operator"
   ]
  },
  {
   "cell_type": "code",
   "execution_count": 42,
   "id": "6168f3a6",
   "metadata": {},
   "outputs": [
    {
     "data": {
      "text/plain": [
       "(True, False)"
      ]
     },
     "execution_count": 42,
     "metadata": {},
     "output_type": "execute_result"
    }
   ],
   "source": [
    "'Three' in values , 'Seven' in values"
   ]
  },
  {
   "cell_type": "code",
   "execution_count": 43,
   "id": "4a2f7f34",
   "metadata": {},
   "outputs": [
    {
     "data": {
      "text/plain": [
       "(False, True)"
      ]
     },
     "execution_count": 43,
     "metadata": {},
     "output_type": "execute_result"
    }
   ],
   "source": [
    "'Three' not in values , \"Eight\" not in values"
   ]
  },
  {
   "cell_type": "code",
   "execution_count": 44,
   "id": "5302d507",
   "metadata": {},
   "outputs": [
    {
     "data": {
      "text/plain": [
       "(False, True)"
      ]
     },
     "execution_count": 44,
     "metadata": {},
     "output_type": "execute_result"
    }
   ],
   "source": [
    "'Delhi' in states , 'Delhi' not in states"
   ]
  },
  {
   "cell_type": "code",
   "execution_count": 45,
   "id": "2bcba83a",
   "metadata": {},
   "outputs": [
    {
     "data": {
      "text/plain": [
       "(True, True)"
      ]
     },
     "execution_count": 45,
     "metadata": {},
     "output_type": "execute_result"
    }
   ],
   "source": [
    "'Marathi' in language,  'Gujrati' in language"
   ]
  },
  {
   "cell_type": "markdown",
   "id": "dd126ff1",
   "metadata": {},
   "source": [
    "- Copy a dictionary"
   ]
  },
  {
   "cell_type": "code",
   "execution_count": 47,
   "id": "63f1f2f0",
   "metadata": {},
   "outputs": [
    {
     "data": {
      "text/plain": [
       "{1: 'One', 2: 'Two', 3: 'Three', 4: 'Four'}"
      ]
     },
     "execution_count": 47,
     "metadata": {},
     "output_type": "execute_result"
    }
   ],
   "source": [
    "dict1 = {1:'One', 2:'Two',3:'Three',4:'Four'}\n",
    "dict1"
   ]
  },
  {
   "cell_type": "code",
   "execution_count": 48,
   "id": "a71ea595",
   "metadata": {},
   "outputs": [
    {
     "data": {
      "text/plain": [
       "{1: 'One', 2: 'Two', 3: 'Three', 4: 'Four'}"
      ]
     },
     "execution_count": 48,
     "metadata": {},
     "output_type": "execute_result"
    }
   ],
   "source": [
    "dict2 = dict1\n",
    "dict2"
   ]
  },
  {
   "cell_type": "code",
   "execution_count": 50,
   "id": "d2cb60a3",
   "metadata": {},
   "outputs": [],
   "source": [
    "# change value of a key\n",
    "dict1[1] = 1.0"
   ]
  },
  {
   "cell_type": "code",
   "execution_count": 51,
   "id": "fea17654",
   "metadata": {},
   "outputs": [
    {
     "data": {
      "text/plain": [
       "{1: 1.0, 2: 'Two', 3: 'Three', 4: 'Four', 10: 10.0}"
      ]
     },
     "execution_count": 51,
     "metadata": {},
     "output_type": "execute_result"
    }
   ],
   "source": [
    "dict1"
   ]
  },
  {
   "cell_type": "code",
   "execution_count": 52,
   "id": "2e259286",
   "metadata": {},
   "outputs": [
    {
     "data": {
      "text/plain": [
       "{1: 1.0, 2: 'Two', 3: 'Three', 4: 'Four', 10: 10.0}"
      ]
     },
     "execution_count": 52,
     "metadata": {},
     "output_type": "execute_result"
    }
   ],
   "source": [
    "# chenged value is auto updating in d2 dictionary\n",
    "dict2"
   ]
  },
  {
   "cell_type": "code",
   "execution_count": 53,
   "id": "9d4590f0",
   "metadata": {},
   "outputs": [],
   "source": [
    "dict1 = {1:'One', 2:'Two',3:'Three',4:'Four'}\n",
    "dict1\n",
    "\n",
    "# To stop auto update, use copy()\n",
    "dict3 = dict1.copy()"
   ]
  },
  {
   "cell_type": "code",
   "execution_count": 54,
   "id": "921200d4",
   "metadata": {},
   "outputs": [
    {
     "data": {
      "text/plain": [
       "{1: 'One', 2: 'Two', 3: 'Three', 4: 'Four'}"
      ]
     },
     "execution_count": 54,
     "metadata": {},
     "output_type": "execute_result"
    }
   ],
   "source": [
    "dict3"
   ]
  },
  {
   "cell_type": "code",
   "execution_count": 55,
   "id": "a0f8fcb3",
   "metadata": {},
   "outputs": [],
   "source": [
    "dict1[2]= 2.0"
   ]
  },
  {
   "cell_type": "code",
   "execution_count": 56,
   "id": "584f8d86",
   "metadata": {},
   "outputs": [
    {
     "data": {
      "text/plain": [
       "{1: 'One', 2: 2.0, 3: 'Three', 4: 'Four'}"
      ]
     },
     "execution_count": 56,
     "metadata": {},
     "output_type": "execute_result"
    }
   ],
   "source": [
    "dict1"
   ]
  },
  {
   "cell_type": "code",
   "execution_count": 57,
   "id": "bb90efe6",
   "metadata": {},
   "outputs": [
    {
     "data": {
      "text/plain": [
       "{1: 'One', 2: 'Two', 3: 'Three', 4: 'Four'}"
      ]
     },
     "execution_count": 57,
     "metadata": {},
     "output_type": "execute_result"
    }
   ],
   "source": [
    "dict3"
   ]
  },
  {
   "cell_type": "code",
   "execution_count": 90,
   "id": "c417e715",
   "metadata": {},
   "outputs": [],
   "source": [
    "# Identity Operator"
   ]
  },
  {
   "cell_type": "code",
   "execution_count": 60,
   "id": "545797c1",
   "metadata": {},
   "outputs": [
    {
     "data": {
      "text/plain": [
       "{100: 'One Hundred', 200: 'Two Hundred', 300: 'Three Hundred'}"
      ]
     },
     "execution_count": 60,
     "metadata": {},
     "output_type": "execute_result"
    }
   ],
   "source": [
    "dic1 = {100:'One Hundred', 200:'Two Hundred',300:'Three Hundred'}\n",
    "dic1"
   ]
  },
  {
   "cell_type": "code",
   "execution_count": 62,
   "id": "8a4154ac",
   "metadata": {},
   "outputs": [
    {
     "data": {
      "text/plain": [
       "{100: 'One Hundred', 200: 'Two Hundred', 300: 'Three Hundred'}"
      ]
     },
     "execution_count": 62,
     "metadata": {},
     "output_type": "execute_result"
    }
   ],
   "source": [
    "dic2 = {100:'One Hundred', 200:'Two Hundred',300:'Three Hundred'}\n",
    "dic2"
   ]
  },
  {
   "cell_type": "code",
   "execution_count": 63,
   "id": "dac7c86b",
   "metadata": {},
   "outputs": [
    {
     "data": {
      "text/plain": [
       "True"
      ]
     },
     "execution_count": 63,
     "metadata": {},
     "output_type": "execute_result"
    }
   ],
   "source": [
    "# Equality\n",
    "dic2 == dic1"
   ]
  },
  {
   "cell_type": "code",
   "execution_count": 85,
   "id": "aad9d6c5",
   "metadata": {},
   "outputs": [
    {
     "data": {
      "text/plain": [
       "False"
      ]
     },
     "execution_count": 85,
     "metadata": {},
     "output_type": "execute_result"
    }
   ],
   "source": [
    "# Identity\n",
    "dic1 is dic2"
   ]
  },
  {
   "cell_type": "code",
   "execution_count": 64,
   "id": "6284c084",
   "metadata": {},
   "outputs": [],
   "source": [
    "dict3 = dic1"
   ]
  },
  {
   "cell_type": "code",
   "execution_count": 65,
   "id": "8467372d",
   "metadata": {},
   "outputs": [
    {
     "data": {
      "text/plain": [
       "True"
      ]
     },
     "execution_count": 65,
     "metadata": {},
     "output_type": "execute_result"
    }
   ],
   "source": [
    "dict3 == dic1"
   ]
  },
  {
   "cell_type": "code",
   "execution_count": 66,
   "id": "7cfd53b6",
   "metadata": {},
   "outputs": [
    {
     "data": {
      "text/plain": [
       "True"
      ]
     },
     "execution_count": 66,
     "metadata": {},
     "output_type": "execute_result"
    }
   ],
   "source": [
    "dict3 is dic1"
   ]
  },
  {
   "cell_type": "code",
   "execution_count": 67,
   "id": "d5cfce8b",
   "metadata": {},
   "outputs": [
    {
     "data": {
      "text/plain": [
       "2707745186688"
      ]
     },
     "execution_count": 67,
     "metadata": {},
     "output_type": "execute_result"
    }
   ],
   "source": [
    "id(dict3)"
   ]
  },
  {
   "cell_type": "code",
   "execution_count": 69,
   "id": "7e9d35c5",
   "metadata": {},
   "outputs": [
    {
     "data": {
      "text/plain": [
       "2707745186688"
      ]
     },
     "execution_count": 69,
     "metadata": {},
     "output_type": "execute_result"
    }
   ],
   "source": [
    "id(dic1)"
   ]
  }
 ],
 "metadata": {
  "kernelspec": {
   "display_name": "Python 3 (ipykernel)",
   "language": "python",
   "name": "python3"
  },
  "language_info": {
   "codemirror_mode": {
    "name": "ipython",
    "version": 3
   },
   "file_extension": ".py",
   "mimetype": "text/x-python",
   "name": "python",
   "nbconvert_exporter": "python",
   "pygments_lexer": "ipython3",
   "version": "3.9.12"
  }
 },
 "nbformat": 4,
 "nbformat_minor": 5
}
