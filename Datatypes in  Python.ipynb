{
 "cells": [
  {
   "cell_type": "markdown",
   "id": "84bd0a68",
   "metadata": {},
   "source": [
    "# <font color = 'Green'> Jupyter Shortcuts for Cell </font>"
   ]
  },
  {
   "cell_type": "markdown",
   "id": "e9ffc594",
   "metadata": {},
   "source": [
    "+ esc + b - Create a cell below the current cell\n",
    "+ esc + a - Create a cell above the current cell\n",
    "+ esc + x - Delete the current cell\n",
    "+ esc + m - Convert current cell to markdown\n",
    "+ esc + y - Convert current cell to code cell"
   ]
  },
  {
   "cell_type": "markdown",
   "id": "75dc7382",
   "metadata": {},
   "source": [
    "# Datatypes in Python"
   ]
  },
  {
   "cell_type": "code",
   "execution_count": 1,
   "id": "9637e52f",
   "metadata": {},
   "outputs": [],
   "source": [
    "# Integer Type\n",
    "x = 18"
   ]
  },
  {
   "cell_type": "code",
   "execution_count": 2,
   "id": "1891b9c1",
   "metadata": {},
   "outputs": [
    {
     "data": {
      "text/plain": [
       "18"
      ]
     },
     "execution_count": 2,
     "metadata": {},
     "output_type": "execute_result"
    }
   ],
   "source": [
    "x"
   ]
  },
  {
   "cell_type": "code",
   "execution_count": 3,
   "id": "aa1490c7",
   "metadata": {},
   "outputs": [
    {
     "data": {
      "text/plain": [
       "int"
      ]
     },
     "execution_count": 3,
     "metadata": {},
     "output_type": "execute_result"
    }
   ],
   "source": [
    "type(x)"
   ]
  },
  {
   "cell_type": "code",
   "execution_count": 4,
   "id": "09187d00",
   "metadata": {},
   "outputs": [],
   "source": [
    "# Float\n",
    "y = 18.06"
   ]
  },
  {
   "cell_type": "code",
   "execution_count": 5,
   "id": "d89fca44",
   "metadata": {},
   "outputs": [
    {
     "data": {
      "text/plain": [
       "18.06"
      ]
     },
     "execution_count": 5,
     "metadata": {},
     "output_type": "execute_result"
    }
   ],
   "source": [
    "y"
   ]
  },
  {
   "cell_type": "code",
   "execution_count": 6,
   "id": "02f37ad7",
   "metadata": {},
   "outputs": [
    {
     "data": {
      "text/plain": [
       "float"
      ]
     },
     "execution_count": 6,
     "metadata": {},
     "output_type": "execute_result"
    }
   ],
   "source": [
    "type(y)"
   ]
  },
  {
   "cell_type": "code",
   "execution_count": 7,
   "id": "05241a04",
   "metadata": {},
   "outputs": [],
   "source": [
    "#Boolean\n",
    "z = True"
   ]
  },
  {
   "cell_type": "code",
   "execution_count": 8,
   "id": "e5345a35",
   "metadata": {},
   "outputs": [
    {
     "data": {
      "text/plain": [
       "True"
      ]
     },
     "execution_count": 8,
     "metadata": {},
     "output_type": "execute_result"
    }
   ],
   "source": [
    "z"
   ]
  },
  {
   "cell_type": "code",
   "execution_count": 9,
   "id": "0187993a",
   "metadata": {},
   "outputs": [
    {
     "data": {
      "text/plain": [
       "bool"
      ]
     },
     "execution_count": 9,
     "metadata": {},
     "output_type": "execute_result"
    }
   ],
   "source": [
    "type(z)"
   ]
  },
  {
   "cell_type": "markdown",
   "id": "a4010232",
   "metadata": {},
   "source": [
    "## Dynamic Typing"
   ]
  },
  {
   "cell_type": "code",
   "execution_count": 10,
   "id": "29faf16c",
   "metadata": {},
   "outputs": [
    {
     "data": {
      "text/plain": [
       "int"
      ]
     },
     "execution_count": 10,
     "metadata": {},
     "output_type": "execute_result"
    }
   ],
   "source": [
    "x = 19\n",
    "type(x)"
   ]
  },
  {
   "cell_type": "code",
   "execution_count": 11,
   "id": "480b3ca0",
   "metadata": {},
   "outputs": [
    {
     "data": {
      "text/plain": [
       "float"
      ]
     },
     "execution_count": 11,
     "metadata": {},
     "output_type": "execute_result"
    }
   ],
   "source": [
    "x = 18.19\n",
    "type(x)"
   ]
  },
  {
   "cell_type": "code",
   "execution_count": 12,
   "id": "4114e2d5",
   "metadata": {},
   "outputs": [
    {
     "data": {
      "text/plain": [
       "bool"
      ]
     },
     "execution_count": 12,
     "metadata": {},
     "output_type": "execute_result"
    }
   ],
   "source": [
    "x = True\n",
    "type(x)"
   ]
  },
  {
   "cell_type": "markdown",
   "id": "74687fb1",
   "metadata": {},
   "source": [
    "## Arithmetic Operations"
   ]
  },
  {
   "cell_type": "code",
   "execution_count": 13,
   "id": "87be7f29",
   "metadata": {},
   "outputs": [],
   "source": [
    "a = 20\n",
    "b = 3"
   ]
  },
  {
   "cell_type": "code",
   "execution_count": 14,
   "id": "7e9d0a4a",
   "metadata": {},
   "outputs": [
    {
     "data": {
      "text/plain": [
       "23"
      ]
     },
     "execution_count": 14,
     "metadata": {},
     "output_type": "execute_result"
    }
   ],
   "source": [
    "a + b"
   ]
  },
  {
   "cell_type": "code",
   "execution_count": 15,
   "id": "787547fd",
   "metadata": {},
   "outputs": [
    {
     "data": {
      "text/plain": [
       "17"
      ]
     },
     "execution_count": 15,
     "metadata": {},
     "output_type": "execute_result"
    }
   ],
   "source": [
    "a - b"
   ]
  },
  {
   "cell_type": "code",
   "execution_count": 16,
   "id": "9af919cc",
   "metadata": {},
   "outputs": [
    {
     "data": {
      "text/plain": [
       "60"
      ]
     },
     "execution_count": 16,
     "metadata": {},
     "output_type": "execute_result"
    }
   ],
   "source": [
    "a * b"
   ]
  },
  {
   "cell_type": "code",
   "execution_count": 17,
   "id": "6ade1224",
   "metadata": {},
   "outputs": [
    {
     "data": {
      "text/plain": [
       "6.666666666666667"
      ]
     },
     "execution_count": 17,
     "metadata": {},
     "output_type": "execute_result"
    }
   ],
   "source": [
    "a / b"
   ]
  },
  {
   "cell_type": "code",
   "execution_count": 18,
   "id": "7dc9b2c9",
   "metadata": {},
   "outputs": [
    {
     "data": {
      "text/plain": [
       "6"
      ]
     },
     "execution_count": 18,
     "metadata": {},
     "output_type": "execute_result"
    }
   ],
   "source": [
    "a // b"
   ]
  },
  {
   "cell_type": "code",
   "execution_count": 19,
   "id": "b5005eb4",
   "metadata": {},
   "outputs": [
    {
     "data": {
      "text/plain": [
       "2"
      ]
     },
     "execution_count": 19,
     "metadata": {},
     "output_type": "execute_result"
    }
   ],
   "source": [
    "a % b"
   ]
  },
  {
   "cell_type": "code",
   "execution_count": 20,
   "id": "4fbdad16",
   "metadata": {},
   "outputs": [],
   "source": [
    "a = -34\n",
    "b = 5"
   ]
  },
  {
   "cell_type": "code",
   "execution_count": 21,
   "id": "e412cf1d",
   "metadata": {},
   "outputs": [
    {
     "data": {
      "text/plain": [
       "-6.8"
      ]
     },
     "execution_count": 21,
     "metadata": {},
     "output_type": "execute_result"
    }
   ],
   "source": [
    "a / b"
   ]
  },
  {
   "cell_type": "code",
   "execution_count": 22,
   "id": "803f3dac",
   "metadata": {},
   "outputs": [
    {
     "data": {
      "text/plain": [
       "-7"
      ]
     },
     "execution_count": 22,
     "metadata": {},
     "output_type": "execute_result"
    }
   ],
   "source": [
    " a // b"
   ]
  },
  {
   "cell_type": "markdown",
   "id": "5d0fa901",
   "metadata": {},
   "source": [
    "## Logical Operations"
   ]
  },
  {
   "cell_type": "code",
   "execution_count": 23,
   "id": "c2eaa86d",
   "metadata": {},
   "outputs": [],
   "source": [
    "x = True\n",
    "y = False"
   ]
  },
  {
   "cell_type": "code",
   "execution_count": 24,
   "id": "7b75e4bc",
   "metadata": {},
   "outputs": [
    {
     "data": {
      "text/plain": [
       "False"
      ]
     },
     "execution_count": 24,
     "metadata": {},
     "output_type": "execute_result"
    }
   ],
   "source": [
    "x and y"
   ]
  },
  {
   "cell_type": "code",
   "execution_count": 25,
   "id": "de08ede1",
   "metadata": {},
   "outputs": [
    {
     "data": {
      "text/plain": [
       "True"
      ]
     },
     "execution_count": 25,
     "metadata": {},
     "output_type": "execute_result"
    }
   ],
   "source": [
    "x or y"
   ]
  },
  {
   "cell_type": "code",
   "execution_count": 26,
   "id": "fb60d920",
   "metadata": {},
   "outputs": [],
   "source": [
    "x = 15\n",
    "y = 10\n",
    "z = 5"
   ]
  },
  {
   "cell_type": "code",
   "execution_count": 27,
   "id": "7d4ac778",
   "metadata": {},
   "outputs": [
    {
     "data": {
      "text/plain": [
       "True"
      ]
     },
     "execution_count": 27,
     "metadata": {},
     "output_type": "execute_result"
    }
   ],
   "source": [
    "x > 4 and y > 9 and z>3"
   ]
  },
  {
   "cell_type": "code",
   "execution_count": 28,
   "id": "bf16beac",
   "metadata": {},
   "outputs": [
    {
     "data": {
      "text/plain": [
       "True"
      ]
     },
     "execution_count": 28,
     "metadata": {},
     "output_type": "execute_result"
    }
   ],
   "source": [
    "x > 20 or z > 1"
   ]
  },
  {
   "cell_type": "code",
   "execution_count": 29,
   "id": "8df2362a",
   "metadata": {},
   "outputs": [
    {
     "data": {
      "text/plain": [
       "False"
      ]
     },
     "execution_count": 29,
     "metadata": {},
     "output_type": "execute_result"
    }
   ],
   "source": [
    "x > 10 and y > 10"
   ]
  },
  {
   "cell_type": "code",
   "execution_count": 30,
   "id": "61f945eb",
   "metadata": {},
   "outputs": [
    {
     "data": {
      "text/plain": [
       "True"
      ]
     },
     "execution_count": 30,
     "metadata": {},
     "output_type": "execute_result"
    }
   ],
   "source": [
    "y > 7 or z < 7"
   ]
  },
  {
   "cell_type": "code",
   "execution_count": 31,
   "id": "3a06ceb8",
   "metadata": {},
   "outputs": [
    {
     "data": {
      "text/plain": [
       "False"
      ]
     },
     "execution_count": 31,
     "metadata": {},
     "output_type": "execute_result"
    }
   ],
   "source": [
    "x < 2 and y < 6"
   ]
  },
  {
   "cell_type": "code",
   "execution_count": 32,
   "id": "26b3d327",
   "metadata": {},
   "outputs": [
    {
     "data": {
      "text/plain": [
       "False"
      ]
     },
     "execution_count": 32,
     "metadata": {},
     "output_type": "execute_result"
    }
   ],
   "source": [
    "x < 8 or y < 8"
   ]
  },
  {
   "cell_type": "markdown",
   "id": "62eb8157",
   "metadata": {},
   "source": [
    "# Collections"
   ]
  },
  {
   "cell_type": "markdown",
   "id": "232ab3c5",
   "metadata": {},
   "source": [
    "## Sequence"
   ]
  },
  {
   "cell_type": "markdown",
   "id": "9edd9262",
   "metadata": {},
   "source": [
    "#### a. List"
   ]
  },
  {
   "cell_type": "code",
   "execution_count": 33,
   "id": "1cebbf02",
   "metadata": {},
   "outputs": [],
   "source": [
    "marks = []"
   ]
  },
  {
   "cell_type": "code",
   "execution_count": 34,
   "id": "3e6b17e6",
   "metadata": {},
   "outputs": [
    {
     "data": {
      "text/plain": [
       "list"
      ]
     },
     "execution_count": 34,
     "metadata": {},
     "output_type": "execute_result"
    }
   ],
   "source": [
    "type(marks)"
   ]
  },
  {
   "cell_type": "code",
   "execution_count": 35,
   "id": "35a97a4e",
   "metadata": {},
   "outputs": [
    {
     "data": {
      "text/plain": [
       "[58, 76, 34, 76, 87]"
      ]
     },
     "execution_count": 35,
     "metadata": {},
     "output_type": "execute_result"
    }
   ],
   "source": [
    "marks = [58,76,34,76,87]\n",
    "marks"
   ]
  },
  {
   "cell_type": "code",
   "execution_count": 36,
   "id": "ab93ed4f",
   "metadata": {},
   "outputs": [
    {
     "data": {
      "text/plain": [
       "['Pepper', 'Scarlet', 'Alexa', 'Jane', 'Siri']"
      ]
     },
     "execution_count": 36,
     "metadata": {},
     "output_type": "execute_result"
    }
   ],
   "source": [
    "students = ['Pepper','Scarlet','Alexa','Jane','Siri']\n",
    "students"
   ]
  },
  {
   "cell_type": "markdown",
   "id": "6dc78062",
   "metadata": {},
   "source": [
    "#### b. String"
   ]
  },
  {
   "cell_type": "code",
   "execution_count": 37,
   "id": "526e2097",
   "metadata": {},
   "outputs": [
    {
     "data": {
      "text/plain": [
       "'Hello World'"
      ]
     },
     "execution_count": 37,
     "metadata": {},
     "output_type": "execute_result"
    }
   ],
   "source": [
    "str1 = 'Hello World'\n",
    "str1"
   ]
  },
  {
   "cell_type": "code",
   "execution_count": 38,
   "id": "a063992d",
   "metadata": {},
   "outputs": [
    {
     "data": {
      "text/plain": [
       "str"
      ]
     },
     "execution_count": 38,
     "metadata": {},
     "output_type": "execute_result"
    }
   ],
   "source": [
    "type(str1)"
   ]
  },
  {
   "cell_type": "code",
   "execution_count": 39,
   "id": "98f82521",
   "metadata": {},
   "outputs": [
    {
     "data": {
      "text/plain": [
       "'Python 3.0'"
      ]
     },
     "execution_count": 39,
     "metadata": {},
     "output_type": "execute_result"
    }
   ],
   "source": [
    "str2 = \"Python 3.0\"\n",
    "str2"
   ]
  },
  {
   "cell_type": "code",
   "execution_count": 40,
   "id": "d2c4bf9d",
   "metadata": {},
   "outputs": [
    {
     "data": {
      "text/plain": [
       "str"
      ]
     },
     "execution_count": 40,
     "metadata": {},
     "output_type": "execute_result"
    }
   ],
   "source": [
    "type(str2)"
   ]
  },
  {
   "cell_type": "code",
   "execution_count": 41,
   "id": "5451bb7b",
   "metadata": {},
   "outputs": [
    {
     "name": "stdout",
     "output_type": "stream",
     "text": [
      " Multiline \n",
      "    string\n"
     ]
    }
   ],
   "source": [
    "# doc string\n",
    "str3 = ''' Multiline \n",
    "    string'''\n",
    "print(str3)"
   ]
  },
  {
   "cell_type": "markdown",
   "id": "7b5cd067",
   "metadata": {},
   "source": [
    "#### c. Tuple"
   ]
  },
  {
   "cell_type": "code",
   "execution_count": 42,
   "id": "f2e30a88",
   "metadata": {},
   "outputs": [],
   "source": [
    "tup = ()"
   ]
  },
  {
   "cell_type": "code",
   "execution_count": 43,
   "id": "bc7ef1c9",
   "metadata": {},
   "outputs": [
    {
     "data": {
      "text/plain": [
       "tuple"
      ]
     },
     "execution_count": 43,
     "metadata": {},
     "output_type": "execute_result"
    }
   ],
   "source": [
    "type(tup)"
   ]
  },
  {
   "cell_type": "code",
   "execution_count": 44,
   "id": "9ace2362",
   "metadata": {},
   "outputs": [
    {
     "data": {
      "text/plain": [
       "(1, 2, 3, 4, 5)"
      ]
     },
     "execution_count": 44,
     "metadata": {},
     "output_type": "execute_result"
    }
   ],
   "source": [
    "tup =(1,2,3,4,5)\n",
    "tup"
   ]
  },
  {
   "cell_type": "markdown",
   "id": "5d38a200",
   "metadata": {},
   "source": [
    "## Accessing elements from sequence"
   ]
  },
  {
   "cell_type": "markdown",
   "id": "e4eec667",
   "metadata": {},
   "source": [
    "#### a. Using Positional Indexing"
   ]
  },
  {
   "cell_type": "code",
   "execution_count": 45,
   "id": "061224ce",
   "metadata": {},
   "outputs": [],
   "source": [
    "id_list = [1,2,3,4,5,6,7,8,9,10]"
   ]
  },
  {
   "cell_type": "code",
   "execution_count": 46,
   "id": "81110776",
   "metadata": {},
   "outputs": [
    {
     "data": {
      "text/plain": [
       "[1, 2, 3, 4, 5, 6, 7, 8, 9, 10]"
      ]
     },
     "execution_count": 46,
     "metadata": {},
     "output_type": "execute_result"
    }
   ],
   "source": [
    "id_list"
   ]
  },
  {
   "cell_type": "code",
   "execution_count": 47,
   "id": "a00ac02f",
   "metadata": {},
   "outputs": [
    {
     "data": {
      "text/plain": [
       "10"
      ]
     },
     "execution_count": 47,
     "metadata": {},
     "output_type": "execute_result"
    }
   ],
   "source": [
    "len(id_list)"
   ]
  },
  {
   "cell_type": "code",
   "execution_count": 48,
   "id": "e38bf4e1",
   "metadata": {},
   "outputs": [
    {
     "data": {
      "text/plain": [
       "1"
      ]
     },
     "execution_count": 48,
     "metadata": {},
     "output_type": "execute_result"
    }
   ],
   "source": [
    "id_list[0]"
   ]
  },
  {
   "cell_type": "code",
   "execution_count": 49,
   "id": "4bfb2a4e",
   "metadata": {},
   "outputs": [
    {
     "data": {
      "text/plain": [
       "[2, 3, 4]"
      ]
     },
     "execution_count": 49,
     "metadata": {},
     "output_type": "execute_result"
    }
   ],
   "source": [
    "id_list[1:4]"
   ]
  },
  {
   "cell_type": "code",
   "execution_count": 50,
   "id": "aa037ca8",
   "metadata": {},
   "outputs": [
    {
     "data": {
      "text/plain": [
       "[1, 2, 3, 4, 5]"
      ]
     },
     "execution_count": 50,
     "metadata": {},
     "output_type": "execute_result"
    }
   ],
   "source": [
    "id_list[:5]"
   ]
  },
  {
   "cell_type": "code",
   "execution_count": 51,
   "id": "d29e5143",
   "metadata": {},
   "outputs": [
    {
     "data": {
      "text/plain": [
       "[6, 7, 8, 9, 10]"
      ]
     },
     "execution_count": 51,
     "metadata": {},
     "output_type": "execute_result"
    }
   ],
   "source": [
    "id_list[5:]"
   ]
  },
  {
   "cell_type": "code",
   "execution_count": 52,
   "id": "beab6000",
   "metadata": {},
   "outputs": [
    {
     "data": {
      "text/plain": [
       "[6, 7, 8, 9, 10]"
      ]
     },
     "execution_count": 52,
     "metadata": {},
     "output_type": "execute_result"
    }
   ],
   "source": [
    "id_list[5:11]"
   ]
  },
  {
   "cell_type": "code",
   "execution_count": 53,
   "id": "efbd2189",
   "metadata": {},
   "outputs": [
    {
     "data": {
      "text/plain": [
       "[6, 8, 10]"
      ]
     },
     "execution_count": 53,
     "metadata": {},
     "output_type": "execute_result"
    }
   ],
   "source": [
    "id_list[5:11:2]"
   ]
  },
  {
   "cell_type": "code",
   "execution_count": 54,
   "id": "bf4138a1",
   "metadata": {},
   "outputs": [
    {
     "data": {
      "text/plain": [
       "[1, 5, 9]"
      ]
     },
     "execution_count": 54,
     "metadata": {},
     "output_type": "execute_result"
    }
   ],
   "source": [
    "id_list[::4]"
   ]
  },
  {
   "cell_type": "code",
   "execution_count": 55,
   "id": "d955cac4",
   "metadata": {},
   "outputs": [
    {
     "data": {
      "text/plain": [
       "[(0, 1),\n",
       " (1, 2),\n",
       " (2, 3),\n",
       " (3, 4),\n",
       " (4, 5),\n",
       " (5, 6),\n",
       " (6, 7),\n",
       " (7, 8),\n",
       " (8, 9),\n",
       " (9, 10)]"
      ]
     },
     "execution_count": 55,
     "metadata": {},
     "output_type": "execute_result"
    }
   ],
   "source": [
    "list(enumerate(id_list))"
   ]
  },
  {
   "cell_type": "code",
   "execution_count": 56,
   "id": "d373e155",
   "metadata": {},
   "outputs": [],
   "source": [
    "str4 = 'Hello Python'"
   ]
  },
  {
   "cell_type": "code",
   "execution_count": 57,
   "id": "109a1d1d",
   "metadata": {},
   "outputs": [
    {
     "data": {
      "text/plain": [
       "[(0, 'H'),\n",
       " (1, 'e'),\n",
       " (2, 'l'),\n",
       " (3, 'l'),\n",
       " (4, 'o'),\n",
       " (5, ' '),\n",
       " (6, 'P'),\n",
       " (7, 'y'),\n",
       " (8, 't'),\n",
       " (9, 'h'),\n",
       " (10, 'o'),\n",
       " (11, 'n')]"
      ]
     },
     "execution_count": 57,
     "metadata": {},
     "output_type": "execute_result"
    }
   ],
   "source": [
    "list(enumerate(str4))"
   ]
  },
  {
   "cell_type": "code",
   "execution_count": 58,
   "id": "7eafc5ba",
   "metadata": {},
   "outputs": [
    {
     "data": {
      "text/plain": [
       "'H'"
      ]
     },
     "execution_count": 58,
     "metadata": {},
     "output_type": "execute_result"
    }
   ],
   "source": [
    "str4[0]"
   ]
  },
  {
   "cell_type": "code",
   "execution_count": 59,
   "id": "841f47b2",
   "metadata": {},
   "outputs": [
    {
     "data": {
      "text/plain": [
       "'o Python'"
      ]
     },
     "execution_count": 59,
     "metadata": {},
     "output_type": "execute_result"
    }
   ],
   "source": [
    "str4[-8:]"
   ]
  },
  {
   "cell_type": "code",
   "execution_count": 60,
   "id": "e559fbeb",
   "metadata": {},
   "outputs": [],
   "source": [
    "tup = (33,36,74,65,44,43)"
   ]
  },
  {
   "cell_type": "code",
   "execution_count": 61,
   "id": "cfb54958",
   "metadata": {},
   "outputs": [
    {
     "data": {
      "text/plain": [
       "43"
      ]
     },
     "execution_count": 61,
     "metadata": {},
     "output_type": "execute_result"
    }
   ],
   "source": [
    "tup[5]"
   ]
  },
  {
   "cell_type": "code",
   "execution_count": 62,
   "id": "db278565",
   "metadata": {},
   "outputs": [
    {
     "data": {
      "text/plain": [
       "(36, 74, 65, 44)"
      ]
     },
     "execution_count": 62,
     "metadata": {},
     "output_type": "execute_result"
    }
   ],
   "source": [
    "tup[1:5]"
   ]
  },
  {
   "cell_type": "markdown",
   "id": "95fe1db0",
   "metadata": {},
   "source": [
    "#### b. Using for loop"
   ]
  },
  {
   "cell_type": "code",
   "execution_count": 63,
   "id": "214ada3e",
   "metadata": {},
   "outputs": [
    {
     "data": {
      "text/plain": [
       "['Pepper', 'Scarlet', 'Alexa', 'Jane', 'Siri']"
      ]
     },
     "execution_count": 63,
     "metadata": {},
     "output_type": "execute_result"
    }
   ],
   "source": [
    "students =['Pepper','Scarlet','Alexa','Jane','Siri']\n",
    "students"
   ]
  },
  {
   "cell_type": "code",
   "execution_count": 64,
   "id": "09188266",
   "metadata": {},
   "outputs": [
    {
     "name": "stdout",
     "output_type": "stream",
     "text": [
      "Hi\n",
      "Pepper\n",
      "Hi\n",
      "Scarlet\n",
      "Hi\n",
      "Alexa\n",
      "Hi\n",
      "Jane\n",
      "Hi\n",
      "Siri\n"
     ]
    }
   ],
   "source": [
    "for x in students:\n",
    "    print('Hi')\n",
    "    print(x)"
   ]
  },
  {
   "cell_type": "code",
   "execution_count": 65,
   "id": "eaf3339b",
   "metadata": {},
   "outputs": [],
   "source": [
    "str5 = 'Hello Python 2.0'"
   ]
  },
  {
   "cell_type": "code",
   "execution_count": 66,
   "id": "e3602fb4",
   "metadata": {},
   "outputs": [
    {
     "name": "stdout",
     "output_type": "stream",
     "text": [
      "H\n",
      "e\n",
      "l\n",
      "l\n",
      "o\n",
      " \n",
      "P\n",
      "y\n",
      "t\n",
      "h\n",
      "o\n",
      "n\n",
      " \n",
      "2\n",
      ".\n",
      "0\n"
     ]
    }
   ],
   "source": [
    "for x in str5:\n",
    "    print(x)"
   ]
  },
  {
   "cell_type": "code",
   "execution_count": 67,
   "id": "fa546364",
   "metadata": {},
   "outputs": [],
   "source": [
    "marks = [43,86,67,74,88,97]"
   ]
  },
  {
   "cell_type": "code",
   "execution_count": 68,
   "id": "de6f7c9e",
   "metadata": {},
   "outputs": [
    {
     "name": "stdout",
     "output_type": "stream",
     "text": [
      "Pass\n",
      "Distinction\n",
      "First Class\n",
      "First Class\n",
      "Distinction\n",
      "Distinction\n",
      "Completed\n"
     ]
    }
   ],
   "source": [
    "for x in marks:\n",
    "    if x > 80:\n",
    "        print('Distinction')\n",
    "    elif x > 60:\n",
    "        print('First Class')\n",
    "    else:\n",
    "        print('Pass')\n",
    "\n",
    "print('Completed')"
   ]
  }
 ],
 "metadata": {
  "kernelspec": {
   "display_name": "Python 3 (ipykernel)",
   "language": "python",
   "name": "python3"
  },
  "language_info": {
   "codemirror_mode": {
    "name": "ipython",
    "version": 3
   },
   "file_extension": ".py",
   "mimetype": "text/x-python",
   "name": "python",
   "nbconvert_exporter": "python",
   "pygments_lexer": "ipython3",
   "version": "3.9.12"
  }
 },
 "nbformat": 4,
 "nbformat_minor": 5
}
